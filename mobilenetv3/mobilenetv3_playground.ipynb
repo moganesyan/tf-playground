{
 "cells": [
  {
   "cell_type": "code",
   "execution_count": null,
   "id": "99ecb392",
   "metadata": {},
   "outputs": [],
   "source": [
    "%load_ext autoreload\n",
    "%autoreload 2"
   ]
  },
  {
   "cell_type": "code",
   "execution_count": null,
   "id": "0b181e51",
   "metadata": {},
   "outputs": [],
   "source": [
    "import sys\n",
    "from pathlib import Path\n",
    "\n",
    "import cv2\n",
    "import numpy as np\n",
    "import tensorflow as tf\n",
    "import matplotlib.pyplot as plt\n",
    "from skimage.transform import resize"
   ]
  },
  {
   "cell_type": "code",
   "execution_count": null,
   "id": "b5602e04",
   "metadata": {},
   "outputs": [],
   "source": [
    "from tensorflow.keras import layers\n",
    "from tensorflow.keras import models"
   ]
  },
  {
   "cell_type": "code",
   "execution_count": null,
   "id": "61f2cdb7",
   "metadata": {},
   "outputs": [],
   "source": [
    "BASE_PATH = Path(\"..\")\n",
    "sys.path.append(str(BASE_PATH.resolve()))"
   ]
  },
  {
   "cell_type": "code",
   "execution_count": null,
   "id": "29a169f5",
   "metadata": {},
   "outputs": [],
   "source": [
    "from mobilenetv3 import MobilenetV3"
   ]
  },
  {
   "cell_type": "code",
   "execution_count": null,
   "id": "a82381b4",
   "metadata": {},
   "outputs": [],
   "source": [
    "tf.__version__"
   ]
  },
  {
   "cell_type": "code",
   "execution_count": null,
   "id": "7be28ff4",
   "metadata": {},
   "outputs": [],
   "source": [
    "from tensorflow.keras.applications import MobileNetV3Small"
   ]
  },
  {
   "cell_type": "markdown",
   "id": "02cba12c",
   "metadata": {},
   "source": [
    "## CIFAR-10 Dataset"
   ]
  },
  {
   "cell_type": "code",
   "execution_count": null,
   "id": "93d761c9",
   "metadata": {},
   "outputs": [],
   "source": [
    "CLASS_NAMES = ['airplane', 'automobile', 'bird', 'cat', 'deer',\n",
    "               'dog', 'frog', 'horse', 'ship', 'truck']"
   ]
  },
  {
   "cell_type": "code",
   "execution_count": null,
   "id": "c7308553",
   "metadata": {},
   "outputs": [],
   "source": [
    "cifar10 = tf.keras.datasets.cifar10\n",
    "\n",
    "(train_images, train_labels), (test_images, test_labels) = cifar10.load_data()"
   ]
  },
  {
   "cell_type": "code",
   "execution_count": null,
   "id": "d13ae977",
   "metadata": {},
   "outputs": [],
   "source": [
    "print(train_images.shape, train_labels.shape)"
   ]
  },
  {
   "cell_type": "code",
   "execution_count": null,
   "id": "a717d898",
   "metadata": {},
   "outputs": [],
   "source": [
    "# train_images = np.expand_dims(train_images, axis = 3)\n",
    "# test_images = np.expand_dims(test_images, axis = 3)\n",
    "\n",
    "# train_images = resize(train_images, (len(train_images),224,224,1))\n",
    "# test_images = resize(test_images, (len(test_images),224,224,1))\n",
    "\n",
    "train_images = train_images / 255.\n",
    "test_images = test_images / 255.\n",
    "\n",
    "train_labels_onehot = tf.keras.utils.to_categorical(train_labels, num_classes=len(CLASS_NAMES))\n",
    "test_labels_onehot = tf.keras.utils.to_categorical(test_labels, num_classes=len(CLASS_NAMES))"
   ]
  },
  {
   "cell_type": "code",
   "execution_count": null,
   "id": "decdd982",
   "metadata": {},
   "outputs": [],
   "source": [
    "train_images.shape"
   ]
  },
  {
   "cell_type": "code",
   "execution_count": null,
   "id": "91479e0b",
   "metadata": {},
   "outputs": [],
   "source": [
    "SAMPLE_SIZE = 10\n",
    "samples = np.random.randint(0, len(train_images), size = SAMPLE_SIZE)\n",
    "\n",
    "fig, axarr = plt.subplots(5, SAMPLE_SIZE//5, figsize = (10,10))\n",
    "axs = axarr.ravel()\n",
    "\n",
    "for idx, sample in enumerate(samples):\n",
    "    axs[idx].imshow(train_images[sample,:,:,:])\n",
    "    axs[idx].set_title(CLASS_NAMES[train_labels[sample,0]])\n",
    "    \n",
    "plt.tight_layout()"
   ]
  },
  {
   "cell_type": "markdown",
   "id": "e49d0870",
   "metadata": {},
   "source": [
    "## Test MobilenetV3"
   ]
  },
  {
   "cell_type": "code",
   "execution_count": null,
   "id": "365be2e3",
   "metadata": {},
   "outputs": [],
   "source": [
    "mobilenetv3 = MobilenetV3(train_images.shape[1:], len(CLASS_NAMES), alpha=1.0, size = 'small')\n",
    "model = mobilenetv3()\n"
   ]
  },
  {
   "cell_type": "code",
   "execution_count": null,
   "id": "043ff4fb",
   "metadata": {},
   "outputs": [],
   "source": [
    "# model = MobileNetV3Small(input_shape = train_images.shape[1:], classes=len(CLASS_NAMES), include_top=True, weights = None)\n"
   ]
  },
  {
   "cell_type": "code",
   "execution_count": null,
   "id": "52d129fe",
   "metadata": {},
   "outputs": [],
   "source": [
    "opt = tf.keras.optimizers.Adam(learning_rate=0.0003)\n",
    "model.compile(optimizer=opt,\n",
    "          loss=['categorical_crossentropy'],\n",
    "          metrics=['accuracy'])\n",
    "    "
   ]
  },
  {
   "cell_type": "code",
   "execution_count": null,
   "id": "f9bb6878",
   "metadata": {},
   "outputs": [],
   "source": [
    "tf.keras.utils.plot_model(model, \"mobilenet_v3_small.png\", show_shapes=True)\n"
   ]
  },
  {
   "cell_type": "code",
   "execution_count": null,
   "id": "7a680d8d",
   "metadata": {},
   "outputs": [],
   "source": [
    "model.summary()"
   ]
  },
  {
   "cell_type": "code",
   "execution_count": null,
   "id": "f480f473",
   "metadata": {},
   "outputs": [],
   "source": [
    "model.save('mobilenetv3_small.h5')"
   ]
  },
  {
   "cell_type": "code",
   "execution_count": null,
   "id": "6d48ec73",
   "metadata": {},
   "outputs": [],
   "source": [
    "model.fit(x = train_images, y = train_labels_onehot, validation_split=0.20, verbose=1,epochs = 10)"
   ]
  },
  {
   "cell_type": "markdown",
   "id": "7131c642",
   "metadata": {},
   "source": [
    "## Evaluate MobilenetV3"
   ]
  },
  {
   "cell_type": "code",
   "execution_count": null,
   "id": "a3f1bc50",
   "metadata": {},
   "outputs": [],
   "source": [
    "test_loss, test_acc = model.evaluate(test_images,  test_labels_onehot, verbose=2)\n",
    "\n",
    "print('\\nTest accuracy:', test_acc)"
   ]
  },
  {
   "cell_type": "code",
   "execution_count": null,
   "id": "d867f340",
   "metadata": {},
   "outputs": [],
   "source": []
  }
 ],
 "metadata": {
  "kernelspec": {
   "display_name": "Python 3 (ipykernel)",
   "language": "python",
   "name": "python3"
  },
  "language_info": {
   "codemirror_mode": {
    "name": "ipython",
    "version": 3
   },
   "file_extension": ".py",
   "mimetype": "text/x-python",
   "name": "python",
   "nbconvert_exporter": "python",
   "pygments_lexer": "ipython3",
   "version": "3.7.11"
  }
 },
 "nbformat": 4,
 "nbformat_minor": 5
}
