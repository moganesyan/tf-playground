{
 "cells": [
  {
   "cell_type": "code",
   "execution_count": 1,
   "id": "54290b53",
   "metadata": {},
   "outputs": [],
   "source": [
    "import tensorflow as tf\n",
    "import numpy as np"
   ]
  },
  {
   "cell_type": "markdown",
   "id": "db0e8520",
   "metadata": {},
   "source": [
    "# Normal Convolution vs Depthwise Convolution\n",
    "Comparing normal convolution to depthwise convolution"
   ]
  },
  {
   "cell_type": "markdown",
   "id": "99d22570",
   "metadata": {},
   "source": [
    "## Using TF Primitives"
   ]
  },
  {
   "cell_type": "code",
   "execution_count": 56,
   "id": "6bf5f25e",
   "metadata": {},
   "outputs": [],
   "source": [
    "t1 = tf.constant(np.random.randn(1,9,9,3), name='test_array_1')\n",
    "k1 = tf.constant(np.random.randn(3,3,3,6), name='kernel_1')\n",
    "k2 = tf.constant(np.random.randn(3,3,1,3), name='kernel_2')"
   ]
  },
  {
   "cell_type": "code",
   "execution_count": 57,
   "id": "df628b60",
   "metadata": {},
   "outputs": [],
   "source": [
    "f1 = tf.nn.convolution(t1, k1, padding = 'VALID', strides = [1], name = 'features_1')\n",
    "f2 = tf.nn.convolution(t1, k2, padding = 'VALID', strides = [1], name = 'features_2')"
   ]
  },
  {
   "cell_type": "code",
   "execution_count": 58,
   "id": "75f1c350",
   "metadata": {},
   "outputs": [
    {
     "name": "stdout",
     "output_type": "stream",
     "text": [
      "Filter 1 shape is: (1, 7, 7, 6)\n",
      "Filter 2 shape is: (1, 7, 7, 3)\n"
     ]
    }
   ],
   "source": [
    "print(f\"Filter 1 shape is: {f1.shape}\")\n",
    "print(f\"Filter 2 shape is: {f2.shape}\")"
   ]
  },
  {
   "cell_type": "code",
   "execution_count": 65,
   "id": "85833345",
   "metadata": {},
   "outputs": [
    {
     "data": {
      "text/plain": [
       "TensorShape([1, 9, 9, 3])"
      ]
     },
     "execution_count": 65,
     "metadata": {},
     "output_type": "execute_result"
    }
   ],
   "source": [
    "t1.shape"
   ]
  },
  {
   "cell_type": "markdown",
   "id": "1eca3f1f",
   "metadata": {},
   "source": [
    "### Using Keras Layers"
   ]
  },
  {
   "cell_type": "code",
   "execution_count": 84,
   "id": "840302a7",
   "metadata": {},
   "outputs": [],
   "source": [
    "conv_depth_keras = tf.keras.layers.DepthwiseConv2D((3,3), (1,1), 'valid', 1)\n",
    "conv_depth_keras_alt = tf.keras.layers.Conv2D(3, (3,3), (1,1), 'valid', groups = 3)\n",
    "f1_keras = conv_depth_keras(t1)\n",
    "f1_keras_alt = conv_depth_keras_alt(t1)"
   ]
  },
  {
   "cell_type": "code",
   "execution_count": 85,
   "id": "9855a76a",
   "metadata": {},
   "outputs": [
    {
     "data": {
      "text/plain": [
       "TensorShape([3, 3, 3, 1])"
      ]
     },
     "execution_count": 85,
     "metadata": {},
     "output_type": "execute_result"
    }
   ],
   "source": [
    "conv_depth_keras.weights[0].shape"
   ]
  },
  {
   "cell_type": "code",
   "execution_count": 86,
   "id": "5d54d882",
   "metadata": {},
   "outputs": [
    {
     "data": {
      "text/plain": [
       "TensorShape([1, 7, 7, 3])"
      ]
     },
     "execution_count": 86,
     "metadata": {},
     "output_type": "execute_result"
    }
   ],
   "source": [
    "f1_keras.shape"
   ]
  },
  {
   "cell_type": "code",
   "execution_count": 91,
   "id": "34513356",
   "metadata": {},
   "outputs": [
    {
     "data": {
      "text/plain": [
       "TensorShape([3, 3, 1, 3])"
      ]
     },
     "execution_count": 91,
     "metadata": {},
     "output_type": "execute_result"
    }
   ],
   "source": [
    "conv_depth_keras_alt.weights[0].shape"
   ]
  },
  {
   "cell_type": "code",
   "execution_count": 92,
   "id": "f9a3e07d",
   "metadata": {},
   "outputs": [
    {
     "data": {
      "text/plain": [
       "TensorShape([1, 7, 7, 3])"
      ]
     },
     "execution_count": 92,
     "metadata": {},
     "output_type": "execute_result"
    }
   ],
   "source": [
    "f1_keras_alt.shape"
   ]
  },
  {
   "cell_type": "code",
   "execution_count": null,
   "id": "0516b3d0",
   "metadata": {},
   "outputs": [],
   "source": []
  }
 ],
 "metadata": {
  "kernelspec": {
   "display_name": "Python 3 (ipykernel)",
   "language": "python",
   "name": "python3"
  },
  "language_info": {
   "codemirror_mode": {
    "name": "ipython",
    "version": 3
   },
   "file_extension": ".py",
   "mimetype": "text/x-python",
   "name": "python",
   "nbconvert_exporter": "python",
   "pygments_lexer": "ipython3",
   "version": "3.7.11"
  }
 },
 "nbformat": 4,
 "nbformat_minor": 5
}
