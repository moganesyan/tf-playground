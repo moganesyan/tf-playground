{
 "cells": [
  {
   "cell_type": "code",
   "execution_count": 1,
   "id": "3a7ab18f-a26b-4a19-8f7d-080720bb06dc",
   "metadata": {},
   "outputs": [],
   "source": [
    "from typing import Tuple\n",
    "\n",
    "import cv2\n",
    "import numpy as np\n",
    "import matplotlib.pyplot as plt\n",
    "import tensorflow as tf"
   ]
  },
  {
   "cell_type": "code",
   "execution_count": 2,
   "id": "1abbc2ad-c41f-49e7-a111-75ad7b8bf784",
   "metadata": {},
   "outputs": [],
   "source": [
    "tf.random.set_seed(42)"
   ]
  },
  {
   "cell_type": "markdown",
   "id": "893ab783-be7c-4ead-bbe7-049d56031223",
   "metadata": {},
   "source": [
    "# Define Augmenters"
   ]
  },
  {
   "cell_type": "code",
   "execution_count": null,
   "id": "629beab5-2e2b-43d5-96d6-f8635bbff6ae",
   "metadata": {},
   "outputs": [],
   "source": [
    "def colour_jitter(x_in: tf.Tensor) -> tf.Tensor:\n",
    "    \"\"\"\n",
    "        Colour jitter augmentation.\n",
    "        \n",
    "        args:\n",
    "            x_in: tf.Tensor - Input image tensor.\n",
    "        returns:\n",
    "            x_out: tf.Tensor - Augmented image tensor.\n",
    "    \"\"\"\n",
    "\n",
    "    "
   ]
  }
 ],
 "metadata": {
  "kernelspec": {
   "display_name": "Python 3 (ipykernel)",
   "language": "python",
   "name": "python3"
  },
  "language_info": {
   "codemirror_mode": {
    "name": "ipython",
    "version": 3
   },
   "file_extension": ".py",
   "mimetype": "text/x-python",
   "name": "python",
   "nbconvert_exporter": "python",
   "pygments_lexer": "ipython3",
   "version": "3.7.11"
  }
 },
 "nbformat": 4,
 "nbformat_minor": 5
}
