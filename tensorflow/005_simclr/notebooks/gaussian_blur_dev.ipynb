{
 "cells": [
  {
   "cell_type": "code",
   "execution_count": null,
   "id": "c3eda978-c2ab-4ca2-9d4d-84711df31868",
   "metadata": {},
   "outputs": [],
   "source": [
    "import cv2\n",
    "import numpy as np\n",
    "import matplotlib.pyplot as plt"
   ]
  },
  {
   "cell_type": "code",
   "execution_count": null,
   "id": "c34cd811-0181-42a4-a98a-5c51e790e0e8",
   "metadata": {},
   "outputs": [],
   "source": [
    "import tensorflow as tf"
   ]
  },
  {
   "cell_type": "code",
   "execution_count": null,
   "id": "2e3cd70e-121f-4071-98c9-ef996b58dd06",
   "metadata": {},
   "outputs": [],
   "source": [
    "tf.random.set_seed(42)"
   ]
  },
  {
   "cell_type": "markdown",
   "id": "f733a240-e525-475d-b158-19da45998314",
   "metadata": {},
   "source": [
    "## Define Augmenters"
   ]
  },
  {
   "cell_type": "code",
   "execution_count": null,
   "id": "e9fb6dde-bb1d-42f9-bb86-63c5dbc3defc",
   "metadata": {},
   "outputs": [],
   "source": [
    "def get_gaussian_kernel(k: int, sigma: float) -> tf.Tensor:\n",
    "    \"\"\"\n",
    "        Get kxk 2D gaussian kernel.\n",
    "        args:\n",
    "            k: int - Kernel size.\n",
    "            sigma: float - Blur strength.\n",
    "        returns:\n",
    "            kernel_gauss: tf.Tensor - Gaussian kernel tensor.\n",
    "    \"\"\"\n",
    "\n",
    "    x = tf.range(-k // 2 + 1, k // 2 + 1, dtype = tf.float32)\n",
    "    \n",
    "    x_gauss = tf.math.exp(-(tf.pow(x, 2) / (2 * tf.pow(sigma, 2))))\n",
    "    x_gauss = x_gauss / tf.math.sqrt((2 * 3.14159 * tf.pow(sigma, 2)))\n",
    "\n",
    "    kernel_gauss = tf.tensordot(x_gauss, x_gauss, axes = 0)\n",
    "    x_scale = tf.reduce_sum(kernel_gauss)\n",
    "\n",
    "    kernel_gauss = kernel_gauss / x_scale\n",
    "    \n",
    "    return kernel_gauss"
   ]
  },
  {
   "cell_type": "code",
   "execution_count": null,
   "id": "c279c90f-da4c-4de9-8208-fc18b68b6630",
   "metadata": {},
   "outputs": [],
   "source": [
    "@tf.function\n",
    "def apply_gaussian_noise(x_in: tf.Tensor) -> tf.Tensor:\n",
    "    \"\"\"\n",
    "        Apply 2D gaussian blur to input tensor.\n",
    "\n",
    "        - Blur input tensor 50% of the time\n",
    "        - Randomly sample blur strength [0.1, 2.0]\n",
    "        - Kernel size is 10% of the input tensor height / width\n",
    "\n",
    "        args:\n",
    "            x_in: tf.Tensor - Input tensor.\n",
    "        returns:\n",
    "            x_out: tf.Tensor - Augmented tensor.\n",
    "    \"\"\"\n",
    "\n",
    "    roll_augment_flag = tf.random.uniform((),0,1)\n",
    "\n",
    "    if roll_augment_flag >= 0.50:\n",
    "        blur_strength = tf.random.uniform((),0.1,2.0)\n",
    "        kernel_size = tf.cast(x_in.shape[1], tf.float32) * tf.constant(0.10)\n",
    "        kernel_size = tf.cast(kernel_size, tf.int32)\n",
    "\n",
    "        kernel = get_gaussian_kernel(kernel_size, blur_strength)\n",
    "        kernel = kernel[..., tf.newaxis]\n",
    "        kernel = tf.tile(\n",
    "            kernel, tf.constant([1, 1, x_in.shape[-1]]))\n",
    "        kernel = kernel[..., tf.newaxis]\n",
    "\n",
    "        x_out = tf.nn.depthwise_conv2d(x_in, kernel, [1,1,1,1], 'SAME')\n",
    "    else:\n",
    "        x_out = x_in\n",
    "    return x_out"
   ]
  },
  {
   "cell_type": "markdown",
   "id": "27de06f9-a1ab-4fb2-8fbe-7256d1e18344",
   "metadata": {},
   "source": [
    "## Test Gaussian Blur"
   ]
  },
  {
   "cell_type": "code",
   "execution_count": null,
   "id": "d0436ba7-f1b8-474b-9c08-a0b9618bf896",
   "metadata": {},
   "outputs": [],
   "source": [
    "plt.imshow(get_gaussian_kernel(21,20.0).numpy())"
   ]
  },
  {
   "cell_type": "code",
   "execution_count": null,
   "id": "6ef9c818-82ec-44af-a15d-0a7170ff6efa",
   "metadata": {},
   "outputs": [],
   "source": [
    "image_test = cv2.imread('lenna.png')\n",
    "image_test = cv2.cvtColor(image_test, cv2.COLOR_BGR2RGB)\n",
    "image_test = image_test / 255."
   ]
  },
  {
   "cell_type": "code",
   "execution_count": null,
   "id": "bd145b83-8da0-4fe1-a7b9-0f5f6e1c8008",
   "metadata": {},
   "outputs": [],
   "source": [
    "plt.imshow(image_test)"
   ]
  },
  {
   "cell_type": "code",
   "execution_count": null,
   "id": "aa4cc03e-f15d-4a8c-90bb-5c29ba870dbb",
   "metadata": {},
   "outputs": [],
   "source": [
    "image_test_tensor = tf.convert_to_tensor(image_test, dtype = tf.float32)\n",
    "# image_test_tensor = image_test_tensor[..., tf.newaxis]\n",
    "image_test_tensor = image_test_tensor[tf.newaxis, ...]"
   ]
  },
  {
   "cell_type": "code",
   "execution_count": null,
   "id": "87b92b4e-6401-4be3-b9a1-67bd50786466",
   "metadata": {},
   "outputs": [],
   "source": [
    "image_test_tensor.shape"
   ]
  },
  {
   "cell_type": "code",
   "execution_count": null,
   "id": "9a07b7ea-5723-479b-9cd3-3994a6ea7222",
   "metadata": {},
   "outputs": [],
   "source": [
    "image_test_tensor_convolved = apply_gaussian_noise(image_test_tensor)\n",
    "plt.imshow(\n",
    "    np.squeeze(image_test_tensor_convolved.numpy()))"
   ]
  },
  {
   "cell_type": "code",
   "execution_count": null,
   "id": "b27735e5-2607-46e8-8d31-ac75a1b7d257",
   "metadata": {},
   "outputs": [],
   "source": [
    "image_test_tensor_convolved.shape"
   ]
  },
  {
   "cell_type": "markdown",
   "id": "88ba42d6-2de5-48e1-acb7-6e023a59b189",
   "metadata": {},
   "source": [
    "## Scrapyard"
   ]
  },
  {
   "cell_type": "code",
   "execution_count": null,
   "id": "59677484-c43e-4fdd-b21c-3edbca66f96e",
   "metadata": {},
   "outputs": [],
   "source": [
    "x = tf.range(-9 // 2 + 1, 9 // 2 + 1, dtype = tf.float32)"
   ]
  },
  {
   "cell_type": "code",
   "execution_count": null,
   "id": "d6631946-7b07-4a4a-9e81-f961dae01eaa",
   "metadata": {},
   "outputs": [],
   "source": [
    "tf.tensordot(x,x, axes = 0)"
   ]
  },
  {
   "cell_type": "code",
   "execution_count": null,
   "id": "19c73f37-4dfc-4720-ad3e-faf0be18c3a6",
   "metadata": {},
   "outputs": [],
   "source": [
    "tensor_tmp = tf.math.exp(-tf.pow(x,2)/(2 * tf.pow(10.0,2)))\n",
    "tensor_tmp = tensor_tmp / tf.math.sqrt(2 * 3.14159 * tf.pow(10.0,2))\n",
    "tensor_tmp = tf.tensordot(tensor_tmp,tensor_tmp, axes = 0)\n",
    "plt.imshow(tensor_tmp.numpy())"
   ]
  },
  {
   "cell_type": "code",
   "execution_count": null,
   "id": "eeef5c0f-f35d-406f-9ab1-d1629c1e94fb",
   "metadata": {},
   "outputs": [],
   "source": [
    "# tf.tensordot(tensor_tmp,tensor_tmp, axes = 0)"
   ]
  },
  {
   "cell_type": "code",
   "execution_count": null,
   "id": "cde48611-6f72-4492-8fc2-3500bb185818",
   "metadata": {},
   "outputs": [],
   "source": []
  }
 ],
 "metadata": {
  "kernelspec": {
   "display_name": "Python 3 (ipykernel)",
   "language": "python",
   "name": "python3"
  },
  "language_info": {
   "codemirror_mode": {
    "name": "ipython",
    "version": 3
   },
   "file_extension": ".py",
   "mimetype": "text/x-python",
   "name": "python",
   "nbconvert_exporter": "python",
   "pygments_lexer": "ipython3",
   "version": "3.7.11"
  }
 },
 "nbformat": 4,
 "nbformat_minor": 5
}
