{
 "cells": [
  {
   "cell_type": "code",
   "execution_count": null,
   "id": "3a7ab18f-a26b-4a19-8f7d-080720bb06dc",
   "metadata": {},
   "outputs": [],
   "source": [
    "from typing import Tuple\n",
    "\n",
    "import cv2\n",
    "import numpy as np\n",
    "import matplotlib.pyplot as plt\n",
    "import tensorflow as tf"
   ]
  },
  {
   "cell_type": "code",
   "execution_count": null,
   "id": "1abbc2ad-c41f-49e7-a111-75ad7b8bf784",
   "metadata": {},
   "outputs": [],
   "source": [
    "tf.random.set_seed(42)"
   ]
  },
  {
   "cell_type": "markdown",
   "id": "893ab783-be7c-4ead-bbe7-049d56031223",
   "metadata": {},
   "source": [
    "# Define Augmenters"
   ]
  },
  {
   "cell_type": "code",
   "execution_count": null,
   "id": "22a4f101-fdd9-47e9-9e05-aea0ed959dca",
   "metadata": {},
   "outputs": [],
   "source": [
    "def colour_jitter(x_in: tf.Tensor) -> tf.Tensor:\n",
    "    \"\"\"\n",
    "        Apply colour jitter.\n",
    "        \n",
    "        1) Tweak brightness.\n",
    "        2) Tweak contrast.\n",
    "        3) Tweak saturation.\n",
    "        4) Tweak hue.\n",
    "\n",
    "        args:\n",
    "            x_in: tf.Tensor - Input image tensor.\n",
    "        returns:\n",
    "            x_out: tf.Tensor - Augmented image tensor.\n",
    "    \"\"\"\n",
    "\n",
    "    x = tf.image.random_brightness(x_in, max_delta=0.8)\n",
    "    x = tf.image.random_contrast(x, lower=1-0.8, upper=1+0.8)\n",
    "    if x_in.shape[-1] == 3:\n",
    "        x = tf.image.random_saturation(x, lower=1-0.8, upper=1+0.8)\n",
    "        x = tf.image.random_hue(x, max_delta=0.2)\n",
    "    x_out = tf.clip_by_value(x, 0, 1)\n",
    "\n",
    "    return x_out"
   ]
  },
  {
   "cell_type": "code",
   "execution_count": null,
   "id": "81bb6eca-c4f1-465b-9b89-da8f6d65d84b",
   "metadata": {},
   "outputs": [],
   "source": [
    "def colour_drop(x_in: tf.Tensor) -> tf.Tensor:\n",
    "    \"\"\"\n",
    "        Apply colour jitter.\n",
    "        \n",
    "        1) Convert to grayscale.\n",
    "        2) Reconvert to RGB.\n",
    "\n",
    "        args:\n",
    "            x_in: tf.Tensor - Input image tensor.\n",
    "        returns:\n",
    "            x_out: tf.Tensor - Augmented image tensor.\n",
    "    \"\"\"\n",
    "\n",
    "    x = tf.image.rgb_to_grayscale(x_in)\n",
    "    x_out = tf.tile(x, [1, 1, 1, 3])\n",
    "\n",
    "    return x_out"
   ]
  },
  {
   "cell_type": "code",
   "execution_count": null,
   "id": "629beab5-2e2b-43d5-96d6-f8635bbff6ae",
   "metadata": {},
   "outputs": [],
   "source": [
    "@tf.function\n",
    "def colour_distortion(x_in: tf.Tensor) -> tf.Tensor:\n",
    "    \"\"\"\n",
    "        Apply colour distortion augmentations.\n",
    "        \n",
    "        1) Apply random colour jitter.\n",
    "        2) Apply random colour drop.\n",
    "        \n",
    "        args:\n",
    "            x_in: tf.Tensor - Input image tensor.\n",
    "        returns:\n",
    "            x_out: tf.Tensor - Augmented image tensor.\n",
    "    \"\"\"\n",
    "\n",
    "    apply_jitter = tf.random.uniform(\n",
    "        (), minval = 0, maxval = 1.0, dtype = tf.float32)\n",
    "    apply_drop = tf.random.uniform(\n",
    "        (), minval = 0, maxval = 1.0, dtype = tf.float32)\n",
    "\n",
    "    x_out = x_in\n",
    "    if apply_jitter <= 0.80:\n",
    "        x_out = colour_jitter(x_out)\n",
    "    if x_in.shape[-1] == 3:\n",
    "        if apply_drop <= 0.20:\n",
    "            x_out = colour_drop(x_out)\n",
    "\n",
    "    return x_out\n"
   ]
  },
  {
   "cell_type": "markdown",
   "id": "a09f271f-8f16-4963-bfcf-f0e6665b4927",
   "metadata": {},
   "source": [
    "# Test Colour Distortion"
   ]
  },
  {
   "cell_type": "code",
   "execution_count": null,
   "id": "4a200e9d-9c20-452f-82bd-a120070bae2a",
   "metadata": {},
   "outputs": [],
   "source": [
    "image_test = cv2.imread('lenna.png')\n",
    "image_test = cv2.cvtColor(image_test, cv2.COLOR_BGR2RGB)\n",
    "image_test = image_test / 255."
   ]
  },
  {
   "cell_type": "code",
   "execution_count": null,
   "id": "bb67dee3-9fd0-43b5-ac0c-9295338142a5",
   "metadata": {},
   "outputs": [],
   "source": [
    "image_test_tensor = tf.convert_to_tensor(image_test, dtype = tf.float32)\n",
    "image_test_tensor = image_test_tensor[tf.newaxis, ...]\n",
    "# image_test_tensor = image_test_tensor[..., tf.newaxis]"
   ]
  },
  {
   "cell_type": "code",
   "execution_count": null,
   "id": "1fd63bd9-fb36-4298-b4d2-9dd113cd0228",
   "metadata": {},
   "outputs": [],
   "source": [
    "image_test_tensor.shape"
   ]
  },
  {
   "cell_type": "code",
   "execution_count": null,
   "id": "314228cc-0cac-48d8-8522-590da2b6e727",
   "metadata": {},
   "outputs": [],
   "source": [
    "distorted = colour_distortion(image_test_tensor)\n",
    "plt.imshow(np.squeeze(distorted.numpy()))"
   ]
  },
  {
   "cell_type": "code",
   "execution_count": null,
   "id": "ed1bd6fd-fd53-4099-84c6-7d89d7114e22",
   "metadata": {},
   "outputs": [],
   "source": []
  }
 ],
 "metadata": {
  "kernelspec": {
   "display_name": "Python 3 (ipykernel)",
   "language": "python",
   "name": "python3"
  },
  "language_info": {
   "codemirror_mode": {
    "name": "ipython",
    "version": 3
   },
   "file_extension": ".py",
   "mimetype": "text/x-python",
   "name": "python",
   "nbconvert_exporter": "python",
   "pygments_lexer": "ipython3",
   "version": "3.7.11"
  }
 },
 "nbformat": 4,
 "nbformat_minor": 5
}
