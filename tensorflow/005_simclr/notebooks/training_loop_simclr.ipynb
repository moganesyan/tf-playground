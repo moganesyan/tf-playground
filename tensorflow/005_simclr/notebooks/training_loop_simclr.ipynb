{
 "cells": [
  {
   "cell_type": "code",
   "execution_count": 1,
   "id": "e8c65998-af26-4391-b413-511f7c436525",
   "metadata": {},
   "outputs": [],
   "source": [
    "import sys\n",
    "from pathlib import Path"
   ]
  },
  {
   "cell_type": "code",
   "execution_count": 2,
   "id": "08134b89-a873-422f-8d61-6ea7e05eb6dd",
   "metadata": {},
   "outputs": [],
   "source": [
    "import numpy as np\n",
    "from sklearn.model_selection import train_test_split\n",
    "import tensorflow as tf"
   ]
  },
  {
   "cell_type": "code",
   "execution_count": 3,
   "id": "d9a76c4d-7016-40ad-9d43-a02825dfa5c5",
   "metadata": {},
   "outputs": [],
   "source": [
    "SEED = 42\n",
    "tf.random.set_seed(SEED)\n",
    "np.random.seed(SEED)"
   ]
  },
  {
   "cell_type": "code",
   "execution_count": 4,
   "id": "77b6d38b-7a48-43cd-928d-456166197693",
   "metadata": {},
   "outputs": [],
   "source": [
    "BASE_DIR = Path(\"..\")\n",
    "sys.path.append(str(BASE_DIR.resolve()))"
   ]
  },
  {
   "cell_type": "markdown",
   "id": "0e34f6bd-5761-4575-9727-3b9af6fc6843",
   "metadata": {},
   "source": [
    "# Create Data Processing Pipeline"
   ]
  },
  {
   "cell_type": "code",
   "execution_count": 5,
   "id": "e048e6b2-a2ee-41d4-9d94-8cc01a1b01dc",
   "metadata": {},
   "outputs": [],
   "source": [
    "(x_train, y_train), (x_test, y_test) = tf.keras.datasets.cifar10.load_data()"
   ]
  },
  {
   "cell_type": "code",
   "execution_count": 6,
   "id": "54a55c4e-78d1-4b1c-95c7-d84d006a9c79",
   "metadata": {},
   "outputs": [],
   "source": [
    "x_train, _, y_train, _ = train_test_split(\n",
    "    x_train, y_train,\n",
    "    stratify = y_train, test_size = 0.90,random_state = SEED)"
   ]
  },
  {
   "cell_type": "markdown",
   "id": "4f38fc66-233c-443f-936c-8485ed51f812",
   "metadata": {},
   "source": [
    "## Data pre-processing"
   ]
  },
  {
   "cell_type": "code",
   "execution_count": 7,
   "id": "71ad5f91-86ed-48a8-a774-8086fc8df30d",
   "metadata": {},
   "outputs": [],
   "source": [
    "INPUT_SHAPE = x_train.shape[1:]\n",
    "NUM_CLASSES = 10\n",
    "BATCH_SIZE = 32"
   ]
  },
  {
   "cell_type": "code",
   "execution_count": 8,
   "id": "961f0b3f-5279-4f66-9522-4893caa07bc3",
   "metadata": {},
   "outputs": [
    {
     "name": "stderr",
     "output_type": "stream",
     "text": [
      "2022-06-28 00:15:19.969535: I tensorflow/stream_executor/cuda/cuda_gpu_executor.cc:936] successful NUMA node read from SysFS had negative value (-1), but there must be at least one NUMA node, so returning NUMA node zero\n",
      "2022-06-28 00:15:19.975700: I tensorflow/stream_executor/cuda/cuda_gpu_executor.cc:936] successful NUMA node read from SysFS had negative value (-1), but there must be at least one NUMA node, so returning NUMA node zero\n",
      "2022-06-28 00:15:19.976214: I tensorflow/stream_executor/cuda/cuda_gpu_executor.cc:936] successful NUMA node read from SysFS had negative value (-1), but there must be at least one NUMA node, so returning NUMA node zero\n",
      "2022-06-28 00:15:19.977314: I tensorflow/core/platform/cpu_feature_guard.cc:151] This TensorFlow binary is optimized with oneAPI Deep Neural Network Library (oneDNN) to use the following CPU instructions in performance-critical operations:  AVX2 FMA\n",
      "To enable them in other operations, rebuild TensorFlow with the appropriate compiler flags.\n",
      "2022-06-28 00:15:19.977768: I tensorflow/stream_executor/cuda/cuda_gpu_executor.cc:936] successful NUMA node read from SysFS had negative value (-1), but there must be at least one NUMA node, so returning NUMA node zero\n",
      "2022-06-28 00:15:19.978234: I tensorflow/stream_executor/cuda/cuda_gpu_executor.cc:936] successful NUMA node read from SysFS had negative value (-1), but there must be at least one NUMA node, so returning NUMA node zero\n",
      "2022-06-28 00:15:19.978665: I tensorflow/stream_executor/cuda/cuda_gpu_executor.cc:936] successful NUMA node read from SysFS had negative value (-1), but there must be at least one NUMA node, so returning NUMA node zero\n",
      "2022-06-28 00:15:20.432722: I tensorflow/stream_executor/cuda/cuda_gpu_executor.cc:936] successful NUMA node read from SysFS had negative value (-1), but there must be at least one NUMA node, so returning NUMA node zero\n",
      "2022-06-28 00:15:20.433240: I tensorflow/stream_executor/cuda/cuda_gpu_executor.cc:936] successful NUMA node read from SysFS had negative value (-1), but there must be at least one NUMA node, so returning NUMA node zero\n",
      "2022-06-28 00:15:20.433674: I tensorflow/stream_executor/cuda/cuda_gpu_executor.cc:936] successful NUMA node read from SysFS had negative value (-1), but there must be at least one NUMA node, so returning NUMA node zero\n",
      "2022-06-28 00:15:20.434085: I tensorflow/core/common_runtime/gpu/gpu_device.cc:1525] Created device /job:localhost/replica:0/task:0/device:GPU:0 with 7043 MB memory:  -> device: 0, name: NVIDIA GeForce GTX 1070 with Max-Q Design, pci bus id: 0000:01:00.0, compute capability: 6.1\n"
     ]
    }
   ],
   "source": [
    "train_data = tf.data.Dataset.from_tensor_slices((x_train, y_train))\n",
    "test_data = tf.data.Dataset.from_tensor_slices((x_test, y_test))"
   ]
  },
  {
   "cell_type": "code",
   "execution_count": 9,
   "id": "abb3cc6c-4c6c-4abd-8c26-6a7dc103f35a",
   "metadata": {},
   "outputs": [],
   "source": [
    "def get_transform_func(num_classes) -> callable:\n",
    "    \"\"\"\n",
    "        Get function for data transformation.\n",
    "\n",
    "        args:\n",
    "            num_classes: int - Number of classes.\n",
    "        returns:\n",
    "            transform_data: callable - Data transformation function.\n",
    "    \"\"\"\n",
    "\n",
    "    def transform_data(image: tf.Tensor, label: tf.Tensor):\n",
    "        \"\"\"\n",
    "            Transforms image and label_data for contrastive learning.\n",
    "                1) Convert image to 0-1 range.\n",
    "                2) Apply random augmentations.\n",
    "                3) Return augmented and unaugmented images.\n",
    "                4) One hot encode labels\n",
    "\n",
    "            args:\n",
    "                image: tf.Tensor - Input image.\n",
    "                label: tf.Tensor - Input label.\n",
    "            returns:\n",
    "                output_payload: transform_return_type - processed original image, \n",
    "                    augmented image, processed original label\n",
    "        \"\"\"\n",
    "\n",
    "        # preprocess image and label\n",
    "        image = tf.cast(image, tf.float32) / 255.\n",
    "        label = tf.one_hot(label, num_classes)\n",
    "\n",
    "        return image, tf.squeeze(label)\n",
    "\n",
    "    return transform_data"
   ]
  },
  {
   "cell_type": "code",
   "execution_count": 10,
   "id": "6acc82f4-f8e3-4717-adf8-2f00b18000a6",
   "metadata": {},
   "outputs": [],
   "source": [
    "transform_func = get_transform_func(NUM_CLASSES)"
   ]
  },
  {
   "cell_type": "code",
   "execution_count": 11,
   "id": "2f0003b1-24a9-4ae9-94ff-327f8e7533f8",
   "metadata": {},
   "outputs": [],
   "source": [
    "# create train dataset\n",
    "train_data = train_data.map(\n",
    "    transform_func, num_parallel_calls=tf.data.AUTOTUNE)\n",
    "train_data = train_data.cache()\n",
    "train_data = train_data.shuffle(buffer_size=1024)\n",
    "train_data = train_data.batch(BATCH_SIZE, drop_remainder = True)\n",
    "train_data = train_data.prefetch(tf.data.AUTOTUNE)"
   ]
  },
  {
   "cell_type": "code",
   "execution_count": 12,
   "id": "4c9511bb-7ee4-4ef7-bbbc-daaf7e6bf2ff",
   "metadata": {},
   "outputs": [],
   "source": [
    "# create test dataset\n",
    "test_data = test_data.map(\n",
    "    transform_func, num_parallel_calls=tf.data.AUTOTUNE)\n",
    "test_data = test_data.cache()\n",
    "test_data = test_data.batch(BATCH_SIZE, drop_remainder = True)\n",
    "test_data = test_data.prefetch(tf.data.AUTOTUNE)"
   ]
  },
  {
   "cell_type": "markdown",
   "id": "4fb78975-66ae-4641-9a64-8dc2e6054d1c",
   "metadata": {},
   "source": [
    "# Create Model"
   ]
  },
  {
   "cell_type": "code",
   "execution_count": 13,
   "id": "7619837f-4831-49d2-9c91-69cc2672a9ec",
   "metadata": {},
   "outputs": [],
   "source": [
    "class AlexNetCustom(tf.keras.Model):\n",
    "    def __init__(self,\n",
    "                 input_shape,\n",
    "                 num_classes,\n",
    "                 name = None):\n",
    "        super(AlexNetCustom, self).__init__(name = name)\n",
    "        self._input_shape = input_shape\n",
    "        self._num_classes = num_classes\n",
    "\n",
    "        self._conv1 = tf.keras.layers.Conv2D(\n",
    "            96, 11, 2, 'same', name = 'bbone_conv1')\n",
    "        self._conv2 = tf.keras.layers.Conv2D(\n",
    "            256, 5, 1, 'same', name = 'bbone_conv2')\n",
    "        self._conv3 = tf.keras.layers.Conv2D(\n",
    "            384, 3, 2, 'same', name = 'bbone_conv3')\n",
    "        self._conv4 = tf.keras.layers.Conv2D(\n",
    "            384, 3, 1, 'same', name = 'bbone_conv4')\n",
    "        self._conv5 = tf.keras.layers.Conv2D(\n",
    "            356, 3, 1, 'same', name = 'bbone_conv5')        \n",
    "        self._gpool2d = tf.keras.layers.GlobalAveragePooling2D(name = 'bbone_gpool')\n",
    "\n",
    "        self._fc1 = tf.keras.layers.Dense(1024, name = 'fc1')\n",
    "        self._fc2 = tf.keras.layers.Dense(1024, name = 'fc2')\n",
    "        self._fc_out = tf.keras.layers.Dense(num_classes, name = 'fc_out')\n",
    "\n",
    "    def call(self, x_in):\n",
    "        x = self._conv1(x_in)\n",
    "        x = tf.nn.relu(x, name = 'bbone_relu1')\n",
    "        x = self._conv2(x)\n",
    "        x = tf.nn.relu(x, name = 'bbone_relu2')\n",
    "        x = self._conv3(x)\n",
    "        x = tf.nn.relu(x, name = 'bbone_relu3')\n",
    "        x = self._conv4(x)\n",
    "        x = tf.nn.relu(x, name = 'bbone_relu4')\n",
    "        x = self._conv5(x)\n",
    "        x = tf.nn.relu(x, name = 'bbone_relu5')\n",
    "        x = self._gpool2d(x)\n",
    "        x = self._fc1(x)\n",
    "        x = tf.nn.relu(x, name = 'relu6')\n",
    "        x = self._fc2(x)\n",
    "        x = tf.nn.relu(x, name = 'relu7')\n",
    "        x = self._fc_out(x)\n",
    "        x_out = tf.nn.softmax(x, name = 'softmax_out')\n",
    "        \n",
    "        return x_out\n",
    "        "
   ]
  },
  {
   "cell_type": "code",
   "execution_count": 14,
   "id": "f43c9116-6079-4d76-9c48-cda4e3c86a2b",
   "metadata": {},
   "outputs": [],
   "source": [
    "mbnet = AlexNetCustom(INPUT_SHAPE, NUM_CLASSES, 'alexnet_custom')\n",
    "mbnet.build([None,*INPUT_SHAPE])"
   ]
  },
  {
   "cell_type": "code",
   "execution_count": 15,
   "id": "6bfbcc88-0212-4ac7-9518-d83c50916364",
   "metadata": {},
   "outputs": [],
   "source": [
    "EPOCHS = 20\n",
    "LEARNING_RATE = 0.00001"
   ]
  },
  {
   "cell_type": "code",
   "execution_count": 16,
   "id": "3d33c088-8e99-4fe6-8ba8-cacf709aec0f",
   "metadata": {},
   "outputs": [],
   "source": [
    "opt=tf.keras.optimizers.Adam(learning_rate = LEARNING_RATE)"
   ]
  },
  {
   "cell_type": "code",
   "execution_count": 17,
   "id": "7d0d7cdd-e695-43aa-b804-d35d8b369ad0",
   "metadata": {},
   "outputs": [],
   "source": [
    "mbnet.load_weights('assets/pretrain/weights/model_encoder_500.h5', by_name=True)"
   ]
  },
  {
   "cell_type": "markdown",
   "id": "385a9a28-2ff5-4532-a4b7-ad86e75bc10f",
   "metadata": {},
   "source": [
    "# Define Training Loop"
   ]
  },
  {
   "cell_type": "code",
   "execution_count": 18,
   "id": "c07b3b40-090e-40ec-aa0c-5069bff45d97",
   "metadata": {},
   "outputs": [],
   "source": [
    "def loss_function(y_true, y_pred):\n",
    "    y_pred_clipped = tf.clip_by_value(y_pred, 0.000001, 1.0 - 0.000001)\n",
    "    return tf.reduce_mean(-1.0 * tf.reduce_sum(y_true * tf.math.log(y_pred_clipped), axis = -1))"
   ]
  },
  {
   "cell_type": "code",
   "execution_count": 19,
   "id": "d97149bd-2cfb-4260-9c11-7445c645ecba",
   "metadata": {},
   "outputs": [],
   "source": [
    "@tf.function\n",
    "def train_step(x_batch, y_batch):\n",
    "    with tf.GradientTape() as tape:\n",
    "        y_pred = mbnet(x_batch)\n",
    "        loss_value = loss_function(y_batch, y_pred)\n",
    "\n",
    "    # grads = tape.gradient(loss_value, mbnet.trainable_variables)\n",
    "    # for grad, weight in zip(grads, mbnet.trainable_variables):\n",
    "    #     weight.assign_sub(LEARNING_RATE * grad)\n",
    "    opt.minimize(loss_value, mbnet.trainable_variables, tape = tape)\n",
    "    return loss_value\n"
   ]
  },
  {
   "cell_type": "code",
   "execution_count": 20,
   "id": "93720de8-c752-40f5-834e-01230307e4a7",
   "metadata": {},
   "outputs": [],
   "source": [
    "@tf.function\n",
    "def test_step(x_batch, y_batch):\n",
    "    \"\"\"\n",
    "        Test step wrapped in a tf Function.\n",
    "    \"\"\"\n",
    "    y_pred = mbnet(x_batch)\n",
    "    loss_value = loss_function(y_batch, y_pred)\n",
    "\n",
    "    return loss_value"
   ]
  },
  {
   "cell_type": "markdown",
   "id": "1405de33-3359-4f20-a1fc-499ff621803b",
   "metadata": {},
   "source": [
    "## Train"
   ]
  },
  {
   "cell_type": "code",
   "execution_count": 21,
   "id": "f46bf215-39bf-45c1-b74f-f918b37fcb74",
   "metadata": {},
   "outputs": [
    {
     "name": "stdout",
     "output_type": "stream",
     "text": [
      "Working on epoch: 0...\n"
     ]
    },
    {
     "name": "stderr",
     "output_type": "stream",
     "text": [
      "/home/mikheil/.conda/envs/py39-tf280/lib/python3.9/site-packages/keras/backend.py:450: UserWarning: `tf.keras.backend.set_learning_phase` is deprecated and will be removed after 2020-10-11. To update it, simply pass a True/False value to the `training` argument of the `__call__` method of your layer or model.\n",
      "  warnings.warn('`tf.keras.backend.set_learning_phase` is deprecated and '\n",
      "2022-06-28 00:15:21.767207: I tensorflow/stream_executor/cuda/cuda_dnn.cc:368] Loaded cuDNN version 8204\n"
     ]
    },
    {
     "name": "stdout",
     "output_type": "stream",
     "text": [
      "Loss at step 0 is 2.30.\n",
      "Loss at step 100 is 2.05.\n",
      "Finished epoch: 0. Running test inference...\n",
      "Test set loss: 1.92.\n",
      "Working on epoch: 1...\n",
      "Loss at step 0 is 1.87.\n",
      "Loss at step 100 is 1.62.\n",
      "Finished epoch: 1. Running test inference...\n",
      "Test set loss: 1.79.\n",
      "Working on epoch: 2...\n",
      "Loss at step 0 is 1.90.\n",
      "Loss at step 100 is 1.69.\n",
      "Finished epoch: 2. Running test inference...\n",
      "Test set loss: 1.73.\n",
      "Working on epoch: 3...\n",
      "Loss at step 0 is 1.86.\n",
      "Loss at step 100 is 1.58.\n",
      "Finished epoch: 3. Running test inference...\n",
      "Test set loss: 1.69.\n",
      "Working on epoch: 4...\n",
      "Loss at step 0 is 2.00.\n",
      "Loss at step 100 is 1.32.\n",
      "Finished epoch: 4. Running test inference...\n",
      "Test set loss: 1.64.\n",
      "Working on epoch: 5...\n",
      "Loss at step 0 is 1.67.\n",
      "Loss at step 100 is 1.55.\n",
      "Finished epoch: 5. Running test inference...\n",
      "Test set loss: 1.60.\n",
      "Working on epoch: 6...\n",
      "Loss at step 0 is 1.65.\n",
      "Loss at step 100 is 1.72.\n",
      "Finished epoch: 6. Running test inference...\n",
      "Test set loss: 1.57.\n",
      "Working on epoch: 7...\n",
      "Loss at step 0 is 1.37.\n",
      "Loss at step 100 is 1.51.\n",
      "Finished epoch: 7. Running test inference...\n",
      "Test set loss: 1.54.\n",
      "Working on epoch: 8...\n",
      "Loss at step 0 is 1.43.\n",
      "Loss at step 100 is 1.63.\n",
      "Finished epoch: 8. Running test inference...\n",
      "Test set loss: 1.51.\n",
      "Working on epoch: 9...\n",
      "Loss at step 0 is 1.48.\n",
      "Loss at step 100 is 1.35.\n",
      "Finished epoch: 9. Running test inference...\n",
      "Test set loss: 1.48.\n",
      "Working on epoch: 10...\n",
      "Loss at step 0 is 1.34.\n",
      "Loss at step 100 is 1.60.\n",
      "Finished epoch: 10. Running test inference...\n",
      "Test set loss: 1.45.\n",
      "Working on epoch: 11...\n",
      "Loss at step 0 is 1.50.\n",
      "Loss at step 100 is 1.72.\n",
      "Finished epoch: 11. Running test inference...\n",
      "Test set loss: 1.45.\n",
      "Working on epoch: 12...\n",
      "Loss at step 0 is 1.19.\n",
      "Loss at step 100 is 1.20.\n",
      "Finished epoch: 12. Running test inference...\n",
      "Test set loss: 1.42.\n",
      "Working on epoch: 13...\n",
      "Loss at step 0 is 1.27.\n",
      "Loss at step 100 is 1.45.\n",
      "Finished epoch: 13. Running test inference...\n",
      "Test set loss: 1.42.\n",
      "Working on epoch: 14...\n",
      "Loss at step 0 is 1.48.\n",
      "Loss at step 100 is 1.02.\n",
      "Finished epoch: 14. Running test inference...\n",
      "Test set loss: 1.42.\n",
      "Working on epoch: 15...\n",
      "Loss at step 0 is 1.16.\n",
      "Loss at step 100 is 1.50.\n",
      "Finished epoch: 15. Running test inference...\n",
      "Test set loss: 1.40.\n",
      "Working on epoch: 16...\n",
      "Loss at step 0 is 1.27.\n",
      "Loss at step 100 is 1.22.\n",
      "Finished epoch: 16. Running test inference...\n",
      "Test set loss: 1.42.\n",
      "Working on epoch: 17...\n",
      "Loss at step 0 is 1.42.\n",
      "Loss at step 100 is 1.29.\n",
      "Finished epoch: 17. Running test inference...\n",
      "Test set loss: 1.40.\n",
      "Working on epoch: 18...\n",
      "Loss at step 0 is 1.30.\n",
      "Loss at step 100 is 1.07.\n",
      "Finished epoch: 18. Running test inference...\n",
      "Test set loss: 1.38.\n",
      "Working on epoch: 19...\n",
      "Loss at step 0 is 1.18.\n",
      "Loss at step 100 is 1.20.\n",
      "Finished epoch: 19. Running test inference...\n",
      "Test set loss: 1.37.\n"
     ]
    }
   ],
   "source": [
    "def train():\n",
    "    \"\"\"\n",
    "        Train Mbnet on CIFAR10.\n",
    "    \"\"\"\n",
    "\n",
    "    losses_train = []\n",
    "    losses_test = []\n",
    "    for epoch in range(EPOCHS):\n",
    "        print(f\"Working on epoch: {epoch}...\")\n",
    "        tf.keras.backend.set_learning_phase(1)\n",
    "        for train_idx, (x_batch_train, y_batch_train) in enumerate(train_data):\n",
    "            loss_value_train = train_step(x_batch_train, y_batch_train)\n",
    "            losses_train.append(loss_value_train.numpy())\n",
    "\n",
    "            if train_idx % 100 == 0:\n",
    "                print(f\"Loss at step {train_idx} is {loss_value_train.numpy():.2f}.\")\n",
    "\n",
    "        print(f\"Finished epoch: {epoch}. Running test inference...\")\n",
    "        tf.keras.backend.set_learning_phase(0)\n",
    "        losses_test_tmp = []\n",
    "        for test_idx, (x_batch_test, y_batch_test) in enumerate(test_data):\n",
    "            loss_value_test = test_step(x_batch_test, y_batch_test)\n",
    "            losses_test_tmp.append(loss_value_test.numpy())\n",
    "            \n",
    "        losses_test.append(np.mean(losses_test_tmp))\n",
    "        print(f\"Test set loss: {np.mean(losses_test_tmp):.2f}.\")\n",
    "\n",
    "    return losses_train, losses_test\n",
    "\n",
    "\n",
    "# train and plot loss\n",
    "train_losses, test_losses = train()"
   ]
  },
  {
   "cell_type": "markdown",
   "id": "36f4cc07-1c04-4f29-bf27-fa41d423e05c",
   "metadata": {},
   "source": [
    "# Visualise Loss"
   ]
  },
  {
   "cell_type": "code",
   "execution_count": 22,
   "id": "6d6d9dba-9a60-4102-b5b9-67c2dffe5124",
   "metadata": {},
   "outputs": [],
   "source": [
    "import matplotlib.pyplot as plt"
   ]
  },
  {
   "cell_type": "code",
   "execution_count": 23,
   "id": "0a5b011a-e417-4699-bec4-c1819e7c3cc9",
   "metadata": {},
   "outputs": [
    {
     "data": {
      "text/plain": [
       "Text(0.5, 1.0, 'Test Loss')"
      ]
     },
     "execution_count": 23,
     "metadata": {},
     "output_type": "execute_result"
    },
    {
     "data": {
      "image/png": "[encoded data removed]",
      "text/plain": [
       "<Figure size 1440x360 with 2 Axes>"
      ]
     },
     "metadata": {
      "needs_background": "light"
     },
     "output_type": "display_data"
    }
   ],
   "source": [
    "fig, (ax0, ax1) = plt.subplots(1,2, figsize = (20,5))\n",
    "ax0.plot(train_losses)\n",
    "ax0.set_title('Train Loss')\n",
    "ax1.plot(test_losses)\n",
    "ax1.set_title('Test Loss')"
   ]
  },
  {
   "cell_type": "code",
   "execution_count": null,
   "id": "30ab934c-0bd6-4f7b-b647-16a5282be361",
   "metadata": {},
   "outputs": [],
   "source": []
  }
 ],
 "metadata": {
  "kernelspec": {
   "display_name": "Python 3 (ipykernel)",
   "language": "python",
   "name": "python3"
  },
  "language_info": {
   "codemirror_mode": {
    "name": "ipython",
    "version": 3
   },
   "file_extension": ".py",
   "mimetype": "text/x-python",
   "name": "python",
   "nbconvert_exporter": "python",
   "pygments_lexer": "ipython3",
   "version": "3.9.12"
  }
 },
 "nbformat": 4,
 "nbformat_minor": 5
}
